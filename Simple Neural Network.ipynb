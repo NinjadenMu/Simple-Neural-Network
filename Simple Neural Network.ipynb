{
 "cells": [
  {
   "cell_type": "code",
   "execution_count": 2,
   "metadata": {},
   "outputs": [
    {
     "name": "stdout",
     "output_type": "stream",
     "text": [
      "0\n"
     ]
    }
   ],
   "source": [
    "import numpy as np\n",
    "\n",
    "class Neural_Network():\n",
    "    def __init__(self):\n",
    "        self.weights = np.random.random((3, 1))\n",
    "\n",
    "    def sigmoid(self, x):\n",
    "        return 1 / (1 + np.exp(-x))\n",
    "\n",
    "    def sigmoid_derivative(self, x):\n",
    "        return self.sigmoid(x) * (1 - self.sigmoid(x))\n",
    "\n",
    "    def train(self, training_inputs, training_outputs):\n",
    "        for i in range(10000):\n",
    "            output = self.think(training_inputs)\n",
    "            error = training_outputs - output\n",
    "            adjustment = np.dot(training_inputs.T, error * self.sigmoid_derivative(output))\n",
    "            self.weights += adjustment\n",
    "\n",
    "    def think(self, inputs):\n",
    "        return self.sigmoid(np.dot(inputs, self.weights))\n",
    "\n",
    "\n",
    "neural_network = Neural_Network()\n",
    "neural_network.train(np.array([[1, 0, 0], [1, 1, 1], [0, 0, 1], [0, 0, 0]]), np.array([[0, 1, 1, 0]]).T)\n",
    "prediction = neural_network.think([1, 1, 0])\n",
    "prediction = int(round(prediction[0]))\n",
    "print(prediction)"
   ]
  }
 ],
 "metadata": {
  "kernelspec": {
   "display_name": "Python 3",
   "language": "python",
   "name": "python3"
  },
  "language_info": {
   "codemirror_mode": {
    "name": "ipython",
    "version": 3
   },
   "file_extension": ".py",
   "mimetype": "text/x-python",
   "name": "python",
   "nbconvert_exporter": "python",
   "pygments_lexer": "ipython3",
   "version": "3.7.6"
  }
 },
 "nbformat": 4,
 "nbformat_minor": 4
}
